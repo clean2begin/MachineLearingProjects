{
 "cells": [
  {
   "cell_type": "markdown",
   "metadata": {},
   "source": [
    "利用logistic回归对乳腺癌数据集进行分类"
   ]
  },
  {
   "cell_type": "markdown",
   "metadata": {},
   "source": [
    "1导入类库"
   ]
  },
  {
   "cell_type": "code",
   "execution_count": 2,
   "metadata": {},
   "outputs": [],
   "source": [
    "import numpy as np \n",
    "import pandas as pd\n",
    "import matplotlib.pyplot as plt\n",
    "import matplotlib as mpl\n",
    "from sklearn.preprocessing import MinMaxScaler\n",
    "from sklearn.datasets import load_breast_cancer\n",
    "from sklearn.model_selection import train_test_split\n",
    "#计算各性能指标的方法\n",
    "from sklearn.metrics import accuracy_score\n",
    "from sklearn.metrics import confusion_matrix\n",
    "from sklearn.metrics import f1_score\n",
    "from sklearn.metrics import precision_score\n",
    "from sklearn.metrics import recall_score\n"
   ]
  },
  {
   "cell_type": "markdown",
   "metadata": {},
   "source": [
    "Logistic回归类"
   ]
  },
  {
   "cell_type": "code",
   "execution_count": 3,
   "metadata": {},
   "outputs": [],
   "source": [
    "class LogisticRegression(object):\n",
    "\n",
    "    def __init__(self,Train_Data,Train_Label,theta=None):\n",
    "        \"\"\"\n",
    "        初始化函数\n",
    "        :param Train_Data:训练数据集，类型为numpy.ndarray\n",
    "        :param Train_Label:训练标签集，类型为numpy.ndarray\n",
    "        :param theta:回归参数，类型为numpy.ndarray,默认为None\n",
    "        \"\"\"\n",
    "        self.Train_Data = []\n",
    "        self.Train_Label = Train_Label\n",
    "        #print(\"init中的traindata:\\n\",Train_Data.shape)\n",
    "        #给每组输入数据增添常数项1\n",
    "        for train_data in Train_Data:\n",
    "            data = [1.0]\n",
    "            data.extend(list(train_data))\n",
    "            #print(\"init中的data：\\n\",data)\n",
    "            self.Train_Data.append(data)\n",
    "        self.Train_Data = np.array(self.Train_Data)\n",
    "        #参数theta不为None时，利用theta构造模型参数\n",
    "        if theta is not None:\n",
    "            self.Theta = theta\n",
    "        else:\n",
    "            size = np.shape(self.Train_Data)\n",
    "            self.Theta = np.random.randn(size)\n",
    "    \n",
    "    def Sigmoid(self,x):\n",
    "        \"\"\"\n",
    "        计算sigmoid函数值\n",
    "        :param x:输入数据\n",
    "        \"\"\"\n",
    "        return 1.0 / (1.0 + np.exp(-x))\n",
    "\n",
    "    def Shuffle_Sequence(self):\n",
    "        \"\"\"\n",
    "        这是在运行SGD算法或MBGD算法之前，随机打算或原始数据集的函数\n",
    "        \"\"\"\n",
    "        #首先获得训练集规模，然后按照规模生成自然数序列\n",
    "        length = len(self.Train_Label)\n",
    "        random_sequence = list(range(length))\n",
    "        #利用numpy的随机打乱函数训练数据下标\n",
    "        random_sequence = np.random.permutation(random_sequence)\n",
    "        return random_sequence\n",
    "    \n",
    "    def Cost(self):\n",
    "        \"\"\"\n",
    "        计算模型平均训练损失的函数\n",
    "        \"\"\"\n",
    "        Cost = []\n",
    "        for (train_data,train_label) in zip(self.Train_Data,self.Train_Label):\n",
    "            #首先计算train_data在当前模型的预测结果\n",
    "            predict = self.Sigmoid(self.Theta.dot(train_data.T))\n",
    "            #加入1e-6防止predict或1-predict出现0的情况，从而防止对数运算出错\n",
    "            cost = -(train_label*np.log(predict + 1e-6)+ (1-train_label)*np.log(1-predict + 1e-6))\n",
    "            Cost.append(cost)\n",
    "        return np.average(Cost)\n",
    "\n",
    "    def BGD(self,alpha):\n",
    "        \"\"\"\n",
    "        BGD算法进行一次迭代调整参数的函数\n",
    "        :param alpha:学习率\n",
    "        \"\"\"\n",
    "        #定义梯度增量数组\n",
    "        gradient_increasment = []\n",
    "        #对输入的训练数据及其真实结果进行依次遍历\n",
    "        for (train_data,Train_Label) in zip(self.Train_Data,self.Train_Label):\n",
    "            predict = self.Sigmoid(self.Theta.dot(train_data.T))\n",
    "            g = (Train_Label - predict) * train_data\n",
    "            gradient_increasment.append(g)\n",
    "        avg_g = np.average(gradient_increasment,0)\n",
    "        self.Theta = self.Theta + alpha * avg_g\n",
    "\n",
    "    def SGD(self,alpha):\n",
    "        \"\"\"\n",
    "        利用SGD算法进行一次迭代调整参数的函数\n",
    "        :param alpha:学习率\n",
    "        \"\"\"\n",
    "        #首先将数据集打乱，减少数据集顺序对参数调优的影响\n",
    "        shuffle_sequence = self.Shuffle_Sequence()\n",
    "        #print(\"+++++++++:\\n\",Train_Data.shape)\n",
    "        #print(\"*********:\\n\",self.Theta.shape)\n",
    "        for index in shuffle_sequence:\n",
    "            train_data = self.Train_Data[index]\n",
    "            train_label = self.Train_Label[index]\n",
    "            predict = self.Sigmoid(self.Theta.dot(train_data.T))\n",
    "            g = (train_label - predict) * train_data\n",
    "            self.Theta = self.Theta + alpha * g\n",
    "\n",
    "    def MBGD(self,alpha,batch_size):\n",
    "        \"\"\"\n",
    "        利用MBGD算法进行一次迭代调整参数的函数\n",
    "        :param alpha:学习率\n",
    "        :param batch_size:小批量样本规模\n",
    "        \"\"\"\n",
    "        shuffle_sequence = self.Shuffle_Sequence()\n",
    "        #遍历每个小批量样本数据集及标签\n",
    "        for start in np.arange(0,len(shuffle_sequence),batch_size):\n",
    "            #判断start+batch_size是否大于数组长度，防止最后一组小批量样本规模可能小于batch_size的情况\n",
    "            end = np.min([start + batch_size,len(shuffle_sequence)])\n",
    "            #获取训练小批量样本及其标签\n",
    "            mini_batch = shuffle_sequence[start:end]\n",
    "            Mini_Train_Data = self.Train_Data[mini_batch]\n",
    "            Mini_Train_Label = self.Train_Label[mini_batch]\n",
    "            #定义小批量训练数据集梯度增量数组\n",
    "            gradient_increasment = []\n",
    "            #遍历每个小批量训练数据集\n",
    "            for (train_data,train_label) in zip(Mini_Train_Data,Mini_Train_Label):\n",
    "                predict = self.Sigmoid(self.Theta.dot(train_data.T))\n",
    "                g = (train_label - predict) * train_data\n",
    "                gradient_increasment.append(g)\n",
    "            avg_g = np.average(gradient_increasment,0)\n",
    "            self.Theta = self.Theta + alpha * avg_g\n",
    "\n",
    "    def train_BGD(self,iter,alpha):\n",
    "        \"\"\"\n",
    "       利用BGD算法迭代优化的函数\n",
    "       :param iter:迭代次数\n",
    "       :param alpha:学习率\n",
    "       \"\"\"\n",
    "       #定义平均训练损失数组，记录每轮迭代的训练数据集的损失 \n",
    "        Cost = []\n",
    "        #追加未开始训练的模型平均训练损失\n",
    "        Cost.append(self.Cost())\n",
    "    \n",
    "        #开始进行迭代训练\n",
    "        for i in range(iter):\n",
    "            #利用学习率alpha，结合BGD算法对模型进行训练\n",
    "            self.BGD(alpha)\n",
    "            #记录每次迭代的平均训练损失\n",
    "            Cost.append(self.Cost())\n",
    "        Cost = np.array(Cost)    \n",
    "        return Cost\n",
    "    \n",
    "    def train_SGD(self,iter,alpha):\n",
    "        \"\"\"\n",
    "       利用SGD算法迭代优化的函数\n",
    "       :param iter:迭代次数\n",
    "       :param alpha:学习率\n",
    "       \"\"\"\n",
    "       #定义平均训练损失数组，记录每轮迭代的训练数据集的损失 \n",
    "        Cost = []\n",
    "        #追加未开始训练的模型平均训练损失\n",
    "        Cost.append(self.Cost())\n",
    "\n",
    "        #开始进行迭代训练\n",
    "        for i in range(iter):\n",
    "            #利用学习率alpha，结合BGD算法对模型进行训练\n",
    "            self.SGD(alpha)\n",
    "            #记录每次迭代的平均训练损失\n",
    "            Cost.append(self.Cost())\n",
    "        Cost = np.array(Cost)    \n",
    "        return Cost\n",
    "\n",
    "    def train_MBGD(self,iter,batch_size,alpha):\n",
    "        \"\"\"\n",
    "       利用MBGD算法迭代优化的函数\n",
    "       :param iter:迭代次数\n",
    "       :param alpha:学习率\n",
    "       :param batch_size:小批量样本规模\n",
    "       \"\"\"\n",
    "       #定义平均训练损失数组，记录每轮迭代的训练数据集的损失 \n",
    "        Cost = []\n",
    "        #追加未开始训练的模型平均训练损失\n",
    "        Cost.append(self.Cost())\n",
    "        #开始进行迭代训练\n",
    "        for i in range(iter):\n",
    "            #利用学习率alpha，结合BGD算法对模型进行训练\n",
    "            self.MBGD(alpha,batch_size)\n",
    "            #记录每次迭代的平均训练损失\n",
    "            Cost.append(self.Cost())\n",
    "        Cost = np.array(Cost)    \n",
    "        return Cost\n",
    "\n",
    "    def test(self,test_data):\n",
    "        \"\"\"\n",
    "        对一组测试数据预测的函数\n",
    "        :param test_data:测试数据\n",
    "        \"\"\"\n",
    "        #对测试数据加入一维特征，以适应矩阵乘法\n",
    "        tmp = [1.0]\n",
    "        tmp.extend(test_data)\n",
    "        #计算test_data在当前模型的预测结果\n",
    "        test_data = np.array(tmp)\n",
    "        predict = self.Sigmoid(self.Theta.dot(test_data.T))\n",
    "        if predict >=0.5:\n",
    "            return 1\n",
    "        else:\n",
    "            return 0\n",
    "\n",
    "    def predict(self,test_data):\n",
    "        \"\"\"\n",
    "        对测试数据集的线性回归预测函数\n",
    "        :param test_data:测试数据集\n",
    "        \"\"\"\n",
    "        predict_result = []\n",
    "        for data in test_data:\n",
    "            predict_result.append(self.test(data))\n",
    "        predict_result = np.array(predict_result)\n",
    "        return predict_result"
   ]
  },
  {
   "cell_type": "markdown",
   "metadata": {},
   "source": [
    "2.导入数据集，并对数据集进行划分"
   ]
  },
  {
   "cell_type": "code",
   "execution_count": 4,
   "metadata": {},
   "outputs": [
    {
     "name": "stdout",
     "output_type": "stream",
     "text": [
      "data:\n",
      " (569, 30)\n"
     ]
    }
   ],
   "source": [
    "breast_cancer = load_breast_cancer()\n",
    "Data,Label = breast_cancer.data,breast_cancer.target\n",
    "\n",
    "print(\"data:\\n\",Data.shape)\n",
    "Data = MinMaxScaler().fit_transform(Data)\n",
    "Train_Data,Test_Data,Train_Label,Test_Label = train_test_split(Data,Label,test_size=0.25,random_state=10)"
   ]
  },
  {
   "cell_type": "markdown",
   "metadata": {},
   "source": [
    "3.训练Logistic回归算法，优化算法参数"
   ]
  },
  {
   "cell_type": "code",
   "execution_count": 5,
   "metadata": {},
   "outputs": [],
   "source": [
    "#初始化模型参数，参数维数比当前数据多一维，因为在logistic回归模型内部会对数据扩展一维\n",
    "size = np.shape(Train_Data)[1]+1\n",
    "Theta = np.random.randn(size)\n",
    "\n",
    "\n",
    "#构建不同梯度下降算法的Logistic回归模型\n",
    "LR_BGD = LogisticRegression(Train_Data,Train_Label,Theta)\n",
    "LR_SGD = LogisticRegression(Train_Data,Train_Label,Theta)\n",
    "LR_MBGD = LogisticRegression(Train_Data,Train_Label,Theta)"
   ]
  },
  {
   "cell_type": "code",
   "execution_count": 6,
   "metadata": {},
   "outputs": [
    {
     "name": "stdout",
     "output_type": "stream",
     "text": [
      "Theth:\n",
      " (31,)\n",
      "Train_Data:\n",
      " (426, 30)\n"
     ]
    }
   ],
   "source": [
    "\n",
    "print(\"Theth:\\n\",Theta.shape)\n",
    "print(\"Train_Data:\\n\",Train_Data.shape)"
   ]
  },
  {
   "cell_type": "code",
   "execution_count": 7,
   "metadata": {},
   "outputs": [],
   "source": [
    "#初始化Logistic回归模型的相关参数\n",
    "iteration = 500 #迭代次数可设置大点\n",
    "learning_rate = 0.1\n",
    "batch_size = 32\n",
    "\n",
    "#训练逻辑回归模型\n",
    "BGD_Cost = LR_BGD.train_BGD(iteration,learning_rate)\n",
    "SGD_Cost = LR_SGD.train_SGD(iteration,learning_rate)\n",
    "MBGD_Cost = LR_MBGD.train_MBGD(iteration,batch_size,learning_rate)"
   ]
  },
  {
   "cell_type": "markdown",
   "metadata": {},
   "source": [
    "训练数据可视化"
   ]
  },
  {
   "cell_type": "code",
   "execution_count": 8,
   "metadata": {},
   "outputs": [
    {
     "data": {
      "image/png": "[encoded data removed]",
      "text/plain": [
       "<Figure size 432x288 with 1 Axes>"
      ]
     },
     "metadata": {
      "needs_background": "light"
     },
     "output_type": "display_data"
    }
   ],
   "source": [
    "#解决中文乱码问题\n",
    "mpl.rcParams['font.sans-serif'] = [u'simHei']\n",
    "mpl.rcParams['axes.unicode_minus'] = False\n",
    "\n",
    "col = ['BGD','SGD','MBGD']\n",
    "x = np.arange(len(BGD_Cost))\n",
    "plt.plot(x,BGD_Cost,'r-')\n",
    "plt.plot(x,SGD_Cost,'b-')\n",
    "plt.plot(x,MBGD_Cost,'k-')\n",
    "plt.grid(True)\n",
    "plt.legend(labels=col,loc='best')\n",
    "plt.xlabel('迭代次数')\n",
    "plt.ylabel('平均训练损失')\n",
    "plt.show()\n",
    "plt.close()"
   ]
  },
  {
   "cell_type": "markdown",
   "metadata": {},
   "source": [
    "用训练好的模型对测试数据集进行分类"
   ]
  },
  {
   "cell_type": "code",
   "execution_count": 9,
   "metadata": {},
   "outputs": [],
   "source": [
    "BGD_predict = LR_BGD.predict(Test_Data)\n",
    "SGD_predict = LR_SGD.predict(Test_Data)\n",
    "MBGD_predict = LR_MBGD.predict(Test_Data)"
   ]
  },
  {
   "cell_type": "markdown",
   "metadata": {},
   "source": [
    "评估模型：\n",
    "1.精度\n",
    "2.查准率\n",
    "3.召回率\n",
    "4.f1度量\n",
    "5.混淆矩阵"
   ]
  },
  {
   "cell_type": "code",
   "execution_count": 10,
   "metadata": {},
   "outputs": [],
   "source": [
    "#自定义函数\n",
    "def Merge(data,row,col):\n",
    "    \"\"\"\n",
    "    生成DataFrame数据的函数\n",
    "    :param data:数据，格式为列表\n",
    "    :param row:行名称\n",
    "    :param row:列名称\n",
    "    \"\"\"\n",
    "    data = np.array(data).T\n",
    "    return pd.DataFrame(data=data,columns=col,index=row)\n",
    "\n",
    "def Confusion_Matrix_Merge(confusion_matrix,name):\n",
    "    return pd.DataFrame(data=confusion_matrix,index=name,columns=name)"
   ]
  },
  {
   "cell_type": "code",
   "execution_count": 11,
   "metadata": {},
   "outputs": [
    {
     "name": "stdout",
     "output_type": "stream",
     "text": [
      "BGD算法的精度： 0.9300699300699301\n",
      "SGD算法的精度： 0.965034965034965\n",
      "MBGD算法的精度： 0.9790209790209791\n"
     ]
    }
   ],
   "source": [
    "#计算精度\n",
    "BGD_accuracy = accuracy_score(Test_Label,BGD_predict)\n",
    "SGD_accuracy = accuracy_score(Test_Label,SGD_predict)\n",
    "MBGD_accuracy = accuracy_score(Test_Label,MBGD_predict)\n",
    "accuracy = [BGD_accuracy,SGD_accuracy,MBGD_accuracy]\n",
    "print(\"BGD算法的精度：\",BGD_accuracy)\n",
    "print(\"SGD算法的精度：\",SGD_accuracy)\n",
    "print(\"MBGD算法的精度：\",MBGD_accuracy)"
   ]
  },
  {
   "cell_type": "code",
   "execution_count": 12,
   "metadata": {},
   "outputs": [
    {
     "name": "stdout",
     "output_type": "stream",
     "text": [
      "BGD算法的查准率： 0.9175257731958762\n",
      "SGD算法的查准率： 0.9777777777777777\n",
      "MBGD算法的查准率： 0.9888888888888889\n"
     ]
    }
   ],
   "source": [
    "#计算查准率\n",
    "BGD_precision = precision_score(Test_Label,BGD_predict)\n",
    "SGD_precision = precision_score(Test_Label,SGD_predict)\n",
    "MBGD_precision = precision_score(Test_Label,MBGD_predict)\n",
    "precision = [BGD_precision,SGD_precision,MBGD_precision]\n",
    "print(\"BGD算法的查准率：\",BGD_precision)\n",
    "print(\"SGD算法的查准率：\",SGD_precision)\n",
    "print(\"MBGD算法的查准率：\",MBGD_precision)"
   ]
  },
  {
   "cell_type": "code",
   "execution_count": 13,
   "metadata": {},
   "outputs": [
    {
     "name": "stdout",
     "output_type": "stream",
     "text": [
      "BGD算法的召回率： 0.978021978021978\n",
      "SGD算法的召回率： 0.967032967032967\n",
      "MBGD算法的召回率： 0.978021978021978\n"
     ]
    }
   ],
   "source": [
    "#计算召回率\n",
    "BGD_recall = recall_score(Test_Label,BGD_predict)\n",
    "SGD_recall = recall_score(Test_Label,SGD_predict)\n",
    "MBGD_recall = recall_score(Test_Label,MBGD_predict)\n",
    "recall = [BGD_recall,SGD_recall,MBGD_recall]\n",
    "print(\"BGD算法的召回率：\",BGD_recall)\n",
    "print(\"SGD算法的召回率：\",SGD_recall)\n",
    "print(\"MBGD算法的召回率：\",MBGD_recall)"
   ]
  },
  {
   "cell_type": "code",
   "execution_count": 14,
   "metadata": {},
   "outputs": [
    {
     "name": "stdout",
     "output_type": "stream",
     "text": [
      "BGD算法的f1: 0.9468085106382979\n",
      "SGD算法的f1: 0.9723756906077348\n",
      "MBGD算法的f1: 0.9834254143646408\n"
     ]
    }
   ],
   "source": [
    "#计算f1度量\n",
    "BGD_f1 = f1_score(Test_Label,BGD_predict)\n",
    "SGD_f1 = f1_score(Test_Label,SGD_predict)\n",
    "MBGD_f1 = f1_score(Test_Label,MBGD_predict)\n",
    "f1 = [BGD_f1,SGD_f1,MBGD_f1]\n",
    "print(\"BGD算法的f1:\",BGD_f1)\n",
    "print(\"SGD算法的f1:\",SGD_f1)\n",
    "print(\"MBGD算法的f1:\",MBGD_f1)"
   ]
  },
  {
   "cell_type": "code",
   "execution_count": 15,
   "metadata": {},
   "outputs": [
    {
     "name": "stdout",
     "output_type": "stream",
     "text": [
      "BGD算法的混淆矩阵： [[44  8]\n",
      " [ 2 89]]\n",
      "SGD算法的混淆矩阵： [[50  2]\n",
      " [ 3 88]]\n",
      "MBGD算法的混淆矩阵： [[51  1]\n",
      " [ 2 89]]\n"
     ]
    }
   ],
   "source": [
    "#计算混淆矩阵\n",
    "BGD_confusion_matrix = confusion_matrix(Test_Label,BGD_predict)\n",
    "SGD_confusion_matrix = confusion_matrix(Test_Label,SGD_predict)\n",
    "MBGD_confusion_matrix = confusion_matrix(Test_Label,MBGD_predict)\n",
    "print(\"BGD算法的混淆矩阵：\",BGD_confusion_matrix)\n",
    "print(\"SGD算法的混淆矩阵：\",SGD_confusion_matrix)\n",
    "print(\"MBGD算法的混淆矩阵：\",MBGD_confusion_matrix)"
   ]
  },
  {
   "cell_type": "code",
   "execution_count": 16,
   "metadata": {},
   "outputs": [],
   "source": [
    "#合并分类性能指标\n",
    "col = [\"精度\",\"查准率\",\"召回率\",\"f1\"]\n",
    "row = [\"BGD\",\"SGD\",\"MBGD\"]\n",
    "Result = [accuracy,precision,recall,f1]\n",
    "Result = Merge(Result,row,col)\n",
    "Result.to_csv(\"./3中算法的分类性能指标.csv\")"
   ]
  },
  {
   "cell_type": "code",
   "execution_count": 17,
   "metadata": {},
   "outputs": [],
   "source": [
    "#保存混淆矩阵\n",
    "#首先构建一个Excel写入类的实例\n",
    "writer = pd.ExcelWriter(\"./混淆矩阵.xlsx\")\n",
    "#之后把BGD、SGD、和MBGD算法下的混淆矩阵转化为DataFrame\n",
    "BGD_confusion_matrix = Confusion_Matrix_Merge(BGD_confusion_matrix,['正例','反例'])\n",
    "SGD_confusion_matrix = Confusion_Matrix_Merge(SGD_confusion_matrix,['正例','反例'])\n",
    "MBGD_confusion_matrix = Confusion_Matrix_Merge(MBGD_confusion_matrix,['正例','反例'])\n",
    "#依次把DataFrame以sheet的形式写入Excel\n",
    "BGD_confusion_matrix.to_excel(writer,sheet_name='BGD')\n",
    "SGD_confusion_matrix.to_excel(writer,sheet_name='SGD')\n",
    "MBGD_confusion_matrix.to_excel(writer,sheet_name='MBGD')\n",
    "writer.save()"
   ]
  },
  {
   "cell_type": "markdown",
   "metadata": {},
   "source": [
    "综合考虑各项性能指标，MBGD算法在训练集和测试集上表现得更出色，下面研究不同的学习率和不同的小批量样本规模对算法的影响"
   ]
  },
  {
   "cell_type": "markdown",
   "metadata": {},
   "source": [
    "寻求最佳学习率"
   ]
  },
  {
   "cell_type": "code",
   "execution_count": 18,
   "metadata": {},
   "outputs": [
    {
     "data": {
      "image/png": "[encoded data removed]",
      "text/plain": [
       "<Figure size 432x288 with 1 Axes>"
      ]
     },
     "metadata": {
      "needs_background": "light"
     },
     "output_type": "display_data"
    }
   ],
   "source": [
    "learning_rates = [0.001,0.01,0.05,0.1,0.3]\n",
    "choices = [\"b-\",\"g-\",\"r:\",\"k--\",\"y-\"]\n",
    "label = []\n",
    "accuracy = []\n",
    "precision = []\n",
    "recall = []\n",
    "f1 = []\n",
    "#遍历每个学习率，获取该学习率下Logistic回归模型的评价训练损失\n",
    "for learning_rate,choice in zip(learning_rates,choices):\n",
    "    #生成每组结果的图例标签\n",
    "    label.append(\"learning_rate=\"+str(learning_rate))\n",
    "    #构造MBGD优化算法的Logistic模型\n",
    "    LR_MBGD = LogisticRegression(Train_Data,Train_Label,Theta)\n",
    "    #利用MBGD算法训练Logistic回归模型，并返回平均训练损失\n",
    "    MBGD_Cost = LR_MBGD.train_MBGD(iteration,batch_size,learning_rate)\n",
    "    #绘制迭代次数与平均训练损失曲线\n",
    "    plt.plot(np.arange(len(MBGD_Cost)),MBGD_Cost,choice)\n",
    "    #利用Logistic回归模型对测试数据集进行预测\n",
    "    Test_predict = LR_MBGD.predict(Test_Data)\n",
    "    #计算精度、查准率、召回率和f1分类性能指标\n",
    "    accuracy.append(accuracy_score(Test_Label,Test_predict))\n",
    "    f1.append(f1_score(Test_Label,Test_predict))\n",
    "    precision.append(precision_score(Test_Label,Test_predict))\n",
    "    recall.append(recall_score(Test_Label,Test_predict))\n",
    "#合并分类性能指标结果\n",
    "Data = [accuracy,precision,recall,f1]\n",
    "Data = Merge(Data,label,col)\n",
    "#保存为excel表\n",
    "Data.to_excel(\"./不同学习率下MBGD的评价指标.xlsx\")\n",
    "\n",
    "#结果可视化\n",
    "plt.xlabel(\"迭代次数\")\n",
    "plt.ylabel(\"平均训练损失\")\n",
    "plt.grid(True)\n",
    "plt.legend(labels=label,loc='best')\n",
    "plt.show()\n",
    "plt.close()"
   ]
  },
  {
   "cell_type": "markdown",
   "metadata": {},
   "source": [
    "寻求最佳小批量样本规模"
   ]
  },
  {
   "cell_type": "code",
   "execution_count": 21,
   "metadata": {},
   "outputs": [
    {
     "data": {
      "image/png": "[encoded data removed]",
      "text/plain": [
       "<Figure size 432x288 with 1 Axes>"
      ]
     },
     "metadata": {
      "needs_background": "light"
     },
     "output_type": "display_data"
    }
   ],
   "source": [
    "batch_sizes = [16,32,64,128,256]\n",
    "choices = ['b-','g-','r:','k--','y-']\n",
    "label = []\n",
    "accuracy = []\n",
    "precision = []\n",
    "recall = []\n",
    "f1 = []\n",
    "#遍历每个学习率，获取该学习率下的平均训练损失\n",
    "for batch_size,choice in zip(batch_sizes,choices):\n",
    "    label.append('batch_size='+str(batch_size))\n",
    "    #构造MBGD算法训练Logistic回归模型\n",
    "    LR_MBGD = LogisticRegression(Train_Data,Train_Label,Theta)\n",
    "    #利用MBGD算法训练Logistic回归模型，并返回平均训练损失\n",
    "    MBGD_Cost = LR_MBGD.train_MBGD(iteration,batch_size,learning_rate)\n",
    "    plt.plot(np.arange(len(MBGD_Cost)),MBGD_Cost,choice)\n",
    "    #利用Logistic回归模型对测试数据集进行预测\n",
    "    Test_predict = LR_MBGD.predict(Test_Data)\n",
    "    #计算精度、查准率、召回率、f1\n",
    "    accuracy.append(accuracy_score(Test_Label,Test_predict))\n",
    "    precision.append(precision_score(Test_Label,Test_predict))\n",
    "    recall.append(recall_score(Test_Label,Test_predict))\n",
    "    f1.append(f1_score(Test_Label,Test_predict))\n",
    "#合并分类性能指标结果\n",
    "Data = [accuracy,precision,recall,f1]\n",
    "Data = Merge(Data,label,col)\n",
    "Data.to_excel('./不同小批量样本规模下MBGD的评价指标.xlsx')\n",
    "plt.xlabel('迭代次数')\n",
    "plt.ylabel('平均训练损失')\n",
    "plt.grid(True)\n",
    "plt.legend(labels=label,loc='best')\n",
    "plt.show()\n",
    "plt.close()"
   ]
  }
 ],
 "metadata": {
  "interpreter": {
   "hash": "221218152c2cc0842c73480ff7d428faf7eb87df8e0b5d93d385079615f1de85"
  },
  "kernelspec": {
   "display_name": "Python 3.7.3 64-bit",
   "language": "python",
   "name": "python3"
  },
  "language_info": {
   "codemirror_mode": {
    "name": "ipython",
    "version": 3
   },
   "file_extension": ".py",
   "mimetype": "text/x-python",
   "name": "python",
   "nbconvert_exporter": "python",
   "pygments_lexer": "ipython3",
   "version": "3.7.3"
  },
  "orig_nbformat": 4
 },
 "nbformat": 4,
 "nbformat_minor": 2
}
